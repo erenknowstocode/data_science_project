{
 "cells": [
  {
   "cell_type": "code",
   "execution_count": 1,
   "id": "5703a108",
   "metadata": {},
   "outputs": [],
   "source": [
    "import os"
   ]
  },
  {
   "cell_type": "code",
   "execution_count": 2,
   "id": "c374aa34",
   "metadata": {},
   "outputs": [],
   "source": [
    "os.chdir('../')"
   ]
  },
  {
   "cell_type": "code",
   "execution_count": 3,
   "id": "b246e7fc",
   "metadata": {},
   "outputs": [],
   "source": [
    "from dataclasses import dataclass\n",
    "from pathlib import Path\n",
    "\n",
    "@dataclass\n",
    "class DataTransformationConfig:\n",
    "    root_dir: Path\n",
    "    data_path: Path"
   ]
  },
  {
   "cell_type": "code",
   "execution_count": 4,
   "id": "af9423e8",
   "metadata": {},
   "outputs": [],
   "source": [
    "from src.datascience.constants import *\n",
    "from src.datascience.utils.common import *"
   ]
  },
  {
   "cell_type": "code",
   "execution_count": 5,
   "id": "e02ae548",
   "metadata": {},
   "outputs": [],
   "source": [
    "class ConfigurationManager:\n",
    "    def __init__(self,\n",
    "                 config_file=CONFIG_FILE_PATH,\n",
    "                 params_file=PARAMS_FILE_PATH,\n",
    "                 schema_file=SCHEMA_FILE_PATH\n",
    "                 ):\n",
    "        self.config = read_yaml(config_file)\n",
    "        self.params = read_yaml(params_file)\n",
    "        self.schema = read_yaml(schema_file)\n",
    "        create_directories([self.config.artifacts_root])\n",
    "        \n",
    "    def get_transformation_config(self)-> DataTransformationConfig:\n",
    "        config = self.config.data_transformation\n",
    "        create_directories([config.root_dir])\n",
    "        \n",
    "        data_tranformation_config = DataTransformationConfig(\n",
    "            root_dir=config.root_dir,\n",
    "            data_path=config.data_path\n",
    "        )\n",
    "        \n",
    "        return data_tranformation_config"
   ]
  },
  {
   "cell_type": "code",
   "execution_count": 6,
   "id": "13c9af6a",
   "metadata": {},
   "outputs": [],
   "source": [
    "from src.datascience.utils.common import logger\n",
    "from sklearn.model_selection import train_test_split\n",
    "import pandas as pd"
   ]
  },
  {
   "cell_type": "code",
   "execution_count": 7,
   "id": "1616be76",
   "metadata": {},
   "outputs": [],
   "source": [
    "class DataTransformation:\n",
    "    def __init__(self,config:DataTransformationConfig):\n",
    "        self.config = config\n",
    "        \n",
    "    def transform_data(self):\n",
    "        data = pd.read_csv(self.config.data_path)\n",
    "        \n",
    "        train, test = train_test_split(data)\n",
    "        \n",
    "        train.to_csv(os.path.join(self.config.root_dir,\"train.csv\"),index=False)\n",
    "        test.to_csv(os.path.join(self.config.root_dir,\"test.csv\"),index=False)\n",
    "        \n",
    "        logger.info('Splitting the data into train and test')\n",
    "        logger.info(f\"Training data shape: {train.shape}\")\n",
    "        logger.info(f\"Testing data shape: {test.shape}\")\n",
    "        \n",
    "    "
   ]
  },
  {
   "cell_type": "code",
   "execution_count": 8,
   "id": "46fd8867",
   "metadata": {},
   "outputs": [
    {
     "name": "stdout",
     "output_type": "stream",
     "text": [
      "[2025-05-26 13:14:15,139]: INFO: common: yaml file: config/config.yaml loaded successfully.]\n",
      "[2025-05-26 13:14:15,142]: INFO: common: yaml file: params.yaml loaded successfully.]\n",
      "[2025-05-26 13:14:15,146]: INFO: common: yaml file: schema.yaml loaded successfully.]\n",
      "[2025-05-26 13:14:15,148]: INFO: common: Created directory at: artifacts]\n",
      "[2025-05-26 13:14:15,150]: INFO: common: Created directory at: artifacts/data_tranformation]\n",
      "[2025-05-26 13:14:15,187]: INFO: 3048599839: Splitting the data into train and test]\n",
      "[2025-05-26 13:14:15,188]: INFO: 3048599839: Training data shape: (1199, 12)]\n",
      "[2025-05-26 13:14:15,189]: INFO: 3048599839: Testing data shape: (400, 12)]\n"
     ]
    }
   ],
   "source": [
    "try:\n",
    "    config = ConfigurationManager()\n",
    "    data_transformation_config = config.get_transformation_config()\n",
    "    data_tranformation = DataTransformation(data_transformation_config)\n",
    "    data_tranformation.transform_data()\n",
    "except Exception as err:\n",
    "    raise err\n"
   ]
  },
  {
   "cell_type": "code",
   "execution_count": null,
   "id": "111771fb",
   "metadata": {},
   "outputs": [],
   "source": []
  }
 ],
 "metadata": {
  "kernelspec": {
   "display_name": "Python 3",
   "language": "python",
   "name": "python3"
  },
  "language_info": {
   "codemirror_mode": {
    "name": "ipython",
    "version": 3
   },
   "file_extension": ".py",
   "mimetype": "text/x-python",
   "name": "python",
   "nbconvert_exporter": "python",
   "pygments_lexer": "ipython3",
   "version": "3.10.16"
  }
 },
 "nbformat": 4,
 "nbformat_minor": 5
}
