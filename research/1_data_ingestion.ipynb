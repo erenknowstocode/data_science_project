{
 "cells": [
  {
   "cell_type": "code",
   "execution_count": 1,
   "id": "c99c6fd3",
   "metadata": {},
   "outputs": [],
   "source": [
    "import os"
   ]
  },
  {
   "cell_type": "code",
   "execution_count": 2,
   "id": "b10e1d42",
   "metadata": {},
   "outputs": [
    {
     "data": {
      "text/plain": [
       "'/home/sri/projects/personal/experiments/end_to_end_ml/data_science_project/research'"
      ]
     },
     "execution_count": 2,
     "metadata": {},
     "output_type": "execute_result"
    }
   ],
   "source": [
    "%pwd"
   ]
  },
  {
   "cell_type": "code",
   "execution_count": 1,
   "id": "77d9e00b",
   "metadata": {},
   "outputs": [],
   "source": [
    "from dataclasses import dataclass\n",
    "from pathlib import Path\n",
    "\n",
    "@dataclass\n",
    "class DataingestionConfig:\n",
    "    root_dir: Path\n",
    "    source_url: str\n",
    "    local_data_file: Path\n",
    "    unzip_dir: Path"
   ]
  },
  {
   "cell_type": "code",
   "execution_count": null,
   "id": "ddd57c3a",
   "metadata": {},
   "outputs": [],
   "source": [
    "import sys\n",
    "sys.path.append('../')\n",
    "from src.datascience.constants import *\n",
    "from src.datascience.utils.common import read_yaml, create_directories\n",
    "\n",
    "class ConfigurationManager:\n",
    "    def __init__(self,\n",
    "                 config_file=CONFIG_FILE_PATH,\n",
    "                 params_file=PARAMS_FILE_PATH,\n",
    "                 schema_file=SCHEMA_FILE_PATH\n",
    "                 ):\n",
    "        print(sys.path)\n",
    "        self.config = read_yaml(config_file)\n",
    "        self.params = read_yaml(params_file)\n",
    "        self.schema = read_yaml(schema_file)\n",
    "        create_directories([self.config.artifacts_root])\n",
    "    \n",
    "    def get_data_ingestion(self)->DataingestionConfig:\n",
    "        config = self.config.data_ingestion\n",
    "        create_directories([config.root_dir])\n",
    "        \n",
    "        data_ingestion_confg = DataingestionConfig(\n",
    "            root_dir=config.root_dir,\n",
    "            source_url=config.source_url,\n",
    "            local_data_file=config.local_data_file,\n",
    "            unzip_dir=config.unzip_dir\n",
    "        )\n",
    "        \n",
    "        return data_ingestion_confg"
   ]
  },
  {
   "cell_type": "code",
   "execution_count": 3,
   "id": "8fe1dce1",
   "metadata": {},
   "outputs": [],
   "source": [
    "import os\n",
    "import urllib.request as request\n",
    "from src.datascience.utils import logger\n",
    "import zipfile\n",
    "## Component Data Ingestion\n",
    "class DataIngestion:\n",
    "    def __init__(self,config:DataingestionConfig):\n",
    "        self.config = config\n",
    "    \n",
    "    def download_file(self):\n",
    "        if not os.path.exists(self.config.local_data_file):\n",
    "            filename, headers = request.urlretrieve(\n",
    "                url = self.config.source_url,\n",
    "                filename = self.config.local_data_file\n",
    "            )\n",
    "            logger.info(f\"{filename} Downloaded with the following info: \\n {headers}\")\n",
    "        else:\n",
    "            logger.info(f\"file already exists.\")\n",
    "            \n",
    "    def extract_zip_file(self):\n",
    "        unzip_path = self.config.unzip_dir\n",
    "        os.makedirs(unzip_path,exist_ok=True)\n",
    "        print(self.config.local_data_file)\n",
    "        with zipfile.ZipFile(self.config.local_data_file,'r') as file:\n",
    "            file.extractall(unzip_path)"
   ]
  },
  {
   "cell_type": "code",
   "execution_count": 4,
   "id": "0b90907f",
   "metadata": {},
   "outputs": [
    {
     "name": "stdout",
     "output_type": "stream",
     "text": [
      "['/home/sri/projects/personal/experiments/end_to_end_ml/data_science_project/venv/lib/python310.zip', '/home/sri/projects/personal/experiments/end_to_end_ml/data_science_project/venv/lib/python3.10', '/home/sri/projects/personal/experiments/end_to_end_ml/data_science_project/venv/lib/python3.10/lib-dynload', '', '/home/sri/.local/lib/python3.10/site-packages', '/home/sri/projects/personal/experiments/end_to_end_ml/data_science_project/venv/lib/python3.10/site-packages', '../']\n",
      "[2025-05-24 18:08:41,271]: INFO: common: yaml file: ../config/config.yaml loaded successfully.]\n",
      "[2025-05-24 18:08:41,273]: INFO: common: yaml file: ../params.yaml loaded successfully.]\n",
      "[2025-05-24 18:08:41,274]: INFO: common: yaml file: ../schema.yaml loaded successfully.]\n",
      "[2025-05-24 18:08:41,275]: INFO: common: Created directory at: artifacts]\n",
      "[2025-05-24 18:08:41,277]: INFO: common: Created directory at: artifacts/data_ingestion]\n",
      "[2025-05-24 18:08:42,107]: INFO: 2357300876: artifacts/data_ingestion/data.zip Downloaded with the following info: \n",
      " Connection: close\n",
      "Content-Length: 23329\n",
      "Cache-Control: max-age=300\n",
      "Content-Security-Policy: default-src 'none'; style-src 'unsafe-inline'; sandbox\n",
      "Content-Type: application/zip\n",
      "ETag: \"c69888a4ae59bc5a893392785a938ccd4937981c06ba8a9d6a21aa52b4ab5b6e\"\n",
      "Strict-Transport-Security: max-age=31536000\n",
      "X-Content-Type-Options: nosniff\n",
      "X-Frame-Options: deny\n",
      "X-XSS-Protection: 1; mode=block\n",
      "X-GitHub-Request-Id: 2C35:1B7F14:36FB8:88009:6831BDD1\n",
      "Accept-Ranges: bytes\n",
      "Date: Sat, 24 May 2025 12:38:42 GMT\n",
      "Via: 1.1 varnish\n",
      "X-Served-By: cache-hyd1100024-HYD\n",
      "X-Cache: MISS\n",
      "X-Cache-Hits: 0\n",
      "X-Timer: S1748090322.859489,VS0,VE263\n",
      "Vary: Authorization,Accept-Encoding,Origin\n",
      "Access-Control-Allow-Origin: *\n",
      "Cross-Origin-Resource-Policy: cross-origin\n",
      "X-Fastly-Request-ID: e348a58b52eac356c7738cb29157c43009212c8c\n",
      "Expires: Sat, 24 May 2025 12:43:42 GMT\n",
      "Source-Age: 0\n",
      "\n",
      "]\n",
      "artifacts/data_ingestion/data.zip\n"
     ]
    }
   ],
   "source": [
    "try:\n",
    "    config = ConfigurationManager()\n",
    "    data_ingestion_config = config.get_data_ingestion()\n",
    "    data_ingestion = DataIngestion(config=data_ingestion_config)\n",
    "    data_ingestion.download_file()\n",
    "    data_ingestion.extract_zip_file()\n",
    "except Exception as err:\n",
    "    raise err"
   ]
  },
  {
   "cell_type": "code",
   "execution_count": null,
   "id": "5656c1c7",
   "metadata": {},
   "outputs": [],
   "source": []
  },
  {
   "cell_type": "code",
   "execution_count": null,
   "id": "508b9129",
   "metadata": {},
   "outputs": [],
   "source": []
  }
 ],
 "metadata": {
  "kernelspec": {
   "display_name": "Python 3",
   "language": "python",
   "name": "python3"
  },
  "language_info": {
   "codemirror_mode": {
    "name": "ipython",
    "version": 3
   },
   "file_extension": ".py",
   "mimetype": "text/x-python",
   "name": "python",
   "nbconvert_exporter": "python",
   "pygments_lexer": "ipython3",
   "version": "3.10.16"
  }
 },
 "nbformat": 4,
 "nbformat_minor": 5
}
